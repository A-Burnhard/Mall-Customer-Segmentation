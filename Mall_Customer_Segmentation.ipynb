{
  "nbformat": 4,
  "nbformat_minor": 0,
  "metadata": {
    "colab": {
      "provenance": [],
      "authorship_tag": "ABX9TyObzcPZ5kUp2GPVTxnHh8Nx",
      "include_colab_link": true
    },
    "kernelspec": {
      "name": "python3",
      "display_name": "Python 3"
    },
    "language_info": {
      "name": "python"
    }
  },
  "cells": [
    {
      "cell_type": "markdown",
      "metadata": {
        "id": "view-in-github",
        "colab_type": "text"
      },
      "source": [
        "<a href=\"https://colab.research.google.com/github/A-Burnhard/Mall-Customer-Segmentation/blob/main/Mall_Customer_Segmentation.ipynb\" target=\"_parent\"><img src=\"https://colab.research.google.com/assets/colab-badge.svg\" alt=\"Open In Colab\"/></a>"
      ]
    },
    {
      "cell_type": "code",
      "execution_count": null,
      "metadata": {
        "id": "yG6RfAEw0Csy"
      },
      "outputs": [],
      "source": [
        "import pandas as pd\n",
        "from sklearn.model_selection import train_test_split\n",
        "from sklearn.preprocessing import LabelEncoder"
      ]
    },
    {
      "cell_type": "code",
      "source": [
        "#Loading or importing  mall customer segmentation dataset to notebook\n",
        "mall_data = pd.read_csv(\"Mall_Customers.csv\")\n",
        "label_encoder = LabelEncoder()\n",
        "mall_data[\"Gender\"] = label_encoder.fit_transform(mall_data[\"Gender\"])\n",
        "mall_data.head()"
      ],
      "metadata": {
        "id": "xf06jar70dSI"
      },
      "execution_count": null,
      "outputs": []
    },
    {
      "cell_type": "markdown",
      "source": [
        "**Preprocessing**\n"
      ],
      "metadata": {
        "id": "pljBbpL10g5D"
      }
    },
    {
      "cell_type": "markdown",
      "source": [
        "**Identifying Missing values**"
      ],
      "metadata": {
        "id": "bkNEmwVy0k-K"
      }
    },
    {
      "cell_type": "code",
      "source": [
        "# Identify missing values\n",
        "missing_values = mall_data.isnull().sum()\n",
        "print(\"Missing values:\\n\", missing_values)"
      ],
      "metadata": {
        "id": "w5j2LkIr0fT0",
        "colab": {
          "base_uri": "https://localhost:8080/"
        },
        "outputId": "ce164526-0969-4828-a083-4e9a215a8b8c"
      },
      "execution_count": null,
      "outputs": [
        {
          "output_type": "stream",
          "name": "stdout",
          "text": [
            "Missing values:\n",
            " CustomerID                0\n",
            "Gender                    0\n",
            "Age                       0\n",
            "Annual Income (k$)        0\n",
            "Spending Score (1-100)    0\n",
            "dtype: int64\n"
          ]
        }
      ]
    },
    {
      "cell_type": "markdown",
      "source": [
        "**Identifying Duplicates**"
      ],
      "metadata": {
        "id": "hjGiFJ370q6-"
      }
    },
    {
      "cell_type": "code",
      "source": [
        "# Identify duplicate rows\n",
        "duplicates = mall_data.duplicated()\n",
        "print(\"Duplicates instances: \\n\",duplicates)"
      ],
      "metadata": {
        "id": "fgzdSG8B0wdG"
      },
      "execution_count": null,
      "outputs": []
    },
    {
      "cell_type": "markdown",
      "source": [
        "**Outlier Detection using Boxplot**"
      ],
      "metadata": {
        "id": "IIYH2dRH03kL"
      }
    },
    {
      "cell_type": "code",
      "source": [
        "\n",
        "import pandas as pd\n",
        "import matplotlib.pyplot as plt\n",
        "import seaborn as sns\n",
        "\n",
        "data = mall_data\n",
        "\n",
        "# Visualize the distribution of each feature using box plots\n",
        "plt.figure(figsize=(10, 6))\n",
        "sns.boxplot(data=data)\n",
        "plt.xticks(rotation=90)\n",
        "plt.title('Boxplot of Features')\n",
        "plt.show()\n",
        "\n",
        "# Identify outliers using statistical methods (e.g., Z-score or IQR)\n",
        "# Z-score method\n",
        "from scipy.stats import zscore\n",
        "\n",
        "#data = mall_data.drop(\"class\", axis=1)\n",
        "z_scores = zscore(data)\n",
        "outlier_threshold = 3  # Adjust the threshold as per your preference\n",
        "outliers = (abs(z_scores) > outlier_threshold).any(axis=1)\n",
        "\n",
        "# IQR method\n",
        "Q1 = data.quantile(0.25)\n",
        "Q3 = data.quantile(0.75)\n",
        "IQR = Q3 - Q1\n",
        "outliers = ((data < (Q1 - 1.5 * IQR)) | (data > (Q3 + 1.5 * IQR))).any(axis=1)\n",
        "\n",
        "# Count the number of outliers\n",
        "num_outliers = outliers.sum()\n",
        "print(f\"Number of outliers: {num_outliers}\")\n",
        "\n",
        "# Decide whether to remove outliers or transform them\n",
        "remove_outliers = False\n",
        "\n",
        "if remove_outliers:\n",
        "    # Remove outliers from the dataset\n",
        "    data = data[~outliers]\n",
        "    print(\"Outliers removed.\")\n",
        "else:\n",
        "    # Transform outliers to a specific value\n",
        "    outlier_value = 200  # Choose an appropriate value for transformation\n",
        "    data[outliers] = outlier_value\n",
        "    print(\"Outliers transformed.\")\n",
        "\n",
        "# Updated visualization after handling outliers\n",
        "plt.figure(figsize=(10, 6))\n",
        "sns.boxplot(data=data)\n",
        "plt.xticks(rotation=90)\n",
        "plt.title('Boxplot of Features (After Outlier Handling)')\n",
        "plt.show()\n",
        "\n",
        "mall_data = data\n"
      ],
      "metadata": {
        "id": "rzTWcbgC08dK"
      },
      "execution_count": null,
      "outputs": []
    },
    {
      "cell_type": "markdown",
      "source": [
        "**others**"
      ],
      "metadata": {
        "id": "ldjIhcZjK9y5"
      }
    },
    {
      "cell_type": "code",
      "source": [
        "import pandas as pd\n",
        "import numpy as np\n",
        "import matplotlib.pyplot as plt\n",
        "from sklearn.cluster import KMeans\n",
        "from sklearn.preprocessing import StandardScaler\n",
        "from sklearn.decomposition import PCA\n",
        "from sklearn.covariance import EllipticEnvelope\n",
        "\n",
        "# Load the mall customer segmentation dataset\n",
        "df = mall_data\n",
        "\n",
        "# Drop irrelevant columns (e.g., CustomerID)\n",
        "#df.drop(columns=['CustomerID'], inplace=True)\n",
        "\n",
        "# Standardize the data for clustering\n",
        "scaler = StandardScaler()\n",
        "X_scaled = scaler.fit_transform(df)\n",
        "\n",
        "# Apply K-Means clustering\n",
        "num_clusters = 5\n",
        "kmeans = KMeans(n_clusters=num_clusters, random_state=42)\n",
        "clusters = kmeans.fit_predict(X_scaled)\n",
        "\n",
        "# Add cluster labels to the dataframe\n",
        "df['Cluster'] = clusters\n",
        "\n",
        "# Perform PCA for visualization purposes (you can skip this step if the dataset has only 2-3 dimensions)\n",
        "pca = PCA(n_components=2)\n",
        "X_pca = pca.fit_transform(X_scaled)\n",
        "\n",
        "# Plot the clusters for visualization\n",
        "plt.scatter(X_pca[:, 0], X_pca[:, 1], c=clusters, cmap='rainbow', edgecolors='k')\n",
        "plt.xlabel('Principal Component 1')\n",
        "plt.ylabel('Principal Component 2')\n",
        "plt.title('K-Means Clustering')\n",
        "plt.show()\n",
        "\n",
        "# Use Elliptic Envelope to detect influential data points\n",
        "outlier_detector = EllipticEnvelope(contamination=0.05)  # Adjust the contamination level as needed\n",
        "influential_data_points = outlier_detector.fit_predict(X_scaled)\n",
        "\n",
        "# Add the influential data point labels to the dataframe\n",
        "df['Influential'] = influential_data_points\n",
        "\n",
        "# Display the data points identified as influential\n",
        "print(\"Influential Data Points:\")\n",
        "print(df[df['Influential'] == -1])\n",
        "\n",
        "# Optionally, you can save the updated DataFrame to a new CSV file\n",
        "# df.to_csv(\"mall_customer_segmentation_with_influential.csv\", index=False)\n"
      ],
      "metadata": {
        "id": "ecIbBmHvLE9_"
      },
      "execution_count": null,
      "outputs": []
    },
    {
      "cell_type": "markdown",
      "source": [
        "**Defining X and Y values**"
      ],
      "metadata": {
        "id": "Qc6B2KiI1DUh"
      }
    },
    {
      "cell_type": "code",
      "source": [
        "# Separate the target variable (class) from the features\n",
        "X = mall_data.drop('class', axis=1)\n",
        "y = mall_data['class']\n",
        "\n",
        "# Convert the target variable to numeric labels\n",
        "label_mapping = {'Iris-setosa': 0, 'Iris-versicolor': 1, 'Iris-virginica': 2}\n",
        "y = y.map(label_mapping)"
      ],
      "metadata": {
        "id": "NsRBcorI1JDa"
      },
      "execution_count": null,
      "outputs": []
    },
    {
      "cell_type": "markdown",
      "source": [
        "**Influencial datapoint detection using elliptic envelope**"
      ],
      "metadata": {
        "id": "k7tEBzjs1c5w"
      }
    },
    {
      "cell_type": "code",
      "source": [
        "import pandas as pd\n",
        "import numpy as np\n",
        "import matplotlib.pyplot as plt\n",
        "from sklearn.cluster import KMeans\n",
        "from sklearn.preprocessing import StandardScaler\n",
        "from sklearn.decomposition import PCA\n",
        "from sklearn.covariance import EllipticEnvelope\n",
        "\n",
        "# Load the mall customer segmentation dataset\n",
        "df = mall_data\n",
        "\n",
        "# Drop irrelevant columns (e.g., CustomerID)\n",
        "#df.drop(columns=['CustomerID'], inplace=True)\n",
        "\n",
        "# Standardize the data for clustering\n",
        "scaler = StandardScaler()\n",
        "X_scaled = scaler.fit_transform(df)\n",
        "\n",
        "# Apply K-Means clustering\n",
        "num_clusters = 5\n",
        "kmeans = KMeans(n_clusters=num_clusters, random_state=42)\n",
        "clusters = kmeans.fit_predict(X_scaled)\n",
        "\n",
        "# Add cluster labels to the dataframe\n",
        "df['Cluster'] = clusters\n",
        "\n",
        "# Perform PCA for visualization purposes (you can skip this step if the dataset has only 2-3 dimensions)\n",
        "pca = PCA(n_components=2)\n",
        "X_pca = pca.fit_transform(X_scaled)\n",
        "\n",
        "# Plot the clusters for visualization\n",
        "plt.scatter(X_pca[:, 0], X_pca[:, 1], c=clusters, cmap='rainbow', edgecolors='k')\n",
        "plt.xlabel('Principal Component 1')\n",
        "plt.ylabel('Principal Component 2')\n",
        "plt.title('K-Means Clustering')\n",
        "plt.show()\n",
        "\n",
        "# Use Elliptic Envelope to detect influential data points\n",
        "outlier_detector = EllipticEnvelope(contamination=0.05)  # Adjust the contamination level as needed\n",
        "influential_data_points = outlier_detector.fit_predict(X_scaled)\n",
        "\n",
        "# Add the influential data point labels to the dataframe\n",
        "df['Influential'] = influential_data_points\n",
        "\n",
        "# Display the data points identified as influential\n",
        "print(\"Influential Data Points:\")\n",
        "print(df[df['Influential'] == -1])\n",
        "\n",
        "# Optionally, you can save the updated DataFrame to a new CSV file\n",
        "# df.to_csv(\"mall_customer_segmentation_with_influential.csv\", index=False)\n"
      ],
      "metadata": {
        "id": "kKPcGq8S3oY-"
      },
      "execution_count": null,
      "outputs": []
    },
    {
      "cell_type": "markdown",
      "source": [
        "**Normality of the set of features using shapiro**"
      ],
      "metadata": {
        "id": "Yf2tWXuR3yxm"
      }
    },
    {
      "cell_type": "code",
      "source": [
        "import pandas as pd\n",
        "import numpy as np\n",
        "import matplotlib.pyplot as plt\n",
        "import seaborn as sns\n",
        "from scipy import stats\n",
        "\n",
        "# Load the Mall Customer Segmentation dataset\n",
        "df = mall_data\n",
        "\n",
        "# List of numerical features\n",
        "numerical_features = df.select_dtypes(include=[np.number]).columns\n",
        "\n",
        "# Check the normality of each numerical feature\n",
        "for feature in numerical_features:\n",
        "    # Shapiro-Wilk test for normality\n",
        "    stat, p = stats.shapiro(df[feature])\n",
        "    alpha = 0.05\n",
        "\n",
        "    print(f\"Feature: {feature}\")\n",
        "    print(f\"Shapiro-Wilk test statistic: {stat}\")\n",
        "    print(f\"P-value: {p}\")\n",
        "\n",
        "    if p > alpha:\n",
        "        print(\"The feature is normally distributed.\")\n",
        "    else:\n",
        "        print(\"The feature is not normally distributed.\")\n",
        "\n",
        "    # Visualize the distribution using a histogram and Q-Q plot\n",
        "    plt.figure(figsize=(12, 4))\n",
        "    plt.subplot(1, 2, 1)\n",
        "    sns.histplot(df[feature], kde=True)\n",
        "    plt.title(f\"{feature} - Histogram\")\n",
        "\n",
        "    plt.subplot(1, 2, 2)\n",
        "    stats.probplot(df[feature], plot=plt)\n",
        "    plt.title(f\"{feature} - Q-Q Plot\")\n",
        "\n",
        "    plt.tight_layout()\n",
        "    plt.show()\n"
      ],
      "metadata": {
        "id": "AMMgQlSI4FUx"
      },
      "execution_count": null,
      "outputs": []
    },
    {
      "cell_type": "markdown",
      "source": [
        "**Data transformation**"
      ],
      "metadata": {
        "id": "l3nfDGc94K-3"
      }
    },
    {
      "cell_type": "code",
      "source": [
        "import pandas as pd\n",
        "from sklearn.preprocessing import MinMaxScaler, StandardScaler\n",
        "X,y\n",
        "\n",
        "# Separate the target variable (class) from the features\n",
        "\n",
        "# Perform normalization using Min-Max scaler\n",
        "scaler = MinMaxScaler()\n",
        "X_normalized = scaler.fit_transform(X)\n",
        "\n",
        "# Perform standardization using StandardScaler\n",
        "scaler = StandardScaler()\n",
        "X_standardized = scaler.fit_transform(X)\n",
        "print(X)"
      ],
      "metadata": {
        "id": "LFX4wqu64RNq"
      },
      "execution_count": null,
      "outputs": []
    },
    {
      "cell_type": "markdown",
      "source": [
        "**Feature Selection**"
      ],
      "metadata": {
        "id": "OPvXspMD4XBB"
      }
    },
    {
      "cell_type": "code",
      "source": [
        "import pandas as pd\n",
        "import numpy as np\n",
        "import matplotlib.pyplot as plt\n",
        "from sklearn.datasets import make_blobs\n",
        "from sklearn.cluster import KMeans\n",
        "from sklearn.feature_selection import RFE\n",
        "from sklearn.linear_model import LogisticRegression\n",
        "from sklearn.preprocessing import StandardScaler\n",
        "\n",
        "# Generate the mall customer segmentation dataset\n",
        "data, labels = make_blobs(n_samples=200, centers=4, random_state=42, cluster_std=2.5)\n",
        "\n",
        "# Create a Pandas DataFrame and visualize the data\n",
        "df = pd.DataFrame(data, columns=['Feature1', 'Feature2'])\n",
        "plt.scatter(df['Feature1'], df['Feature2'], s=50, cmap='viridis')\n",
        "plt.xlabel('Feature1')\n",
        "plt.ylabel('Feature2')\n",
        "plt.title('Mall Customer Segmentation Dataset')\n",
        "plt.show()\n",
        "\n",
        "# Scale the data using StandardScaler\n",
        "scaler = StandardScaler()\n",
        "scaled_data = scaler.fit_transform(df)\n",
        "\n",
        "# Apply KMeans clustering to the dataset\n",
        "kmeans = KMeans(n_clusters=4, random_state=42)\n",
        "df['Cluster'] = kmeans.fit_predict(scaled_data)\n",
        "\n",
        "# Visualize the clustered data\n",
        "plt.scatter(df['Feature1'], df['Feature2'], c=df['Cluster'], s=50, cmap='viridis')\n",
        "plt.xlabel('Feature1')\n",
        "plt.ylabel('Feature2')\n",
        "plt.title('Clustered Mall Customer Segmentation Dataset')\n",
        "plt.show()\n",
        "\n",
        "# Feature selection using Recursive Feature Elimination (RFE)\n",
        "X = df.drop('Cluster', axis=1)\n",
        "y = df['Cluster']\n",
        "\n",
        "# Use Logistic Regression as the estimator for RFE\n",
        "estimator = LogisticRegression()\n",
        "rfe = RFE(estimator, n_features_to_select=1)\n",
        "rfe.fit(X, y)\n",
        "\n",
        "# Get the ranking of features based on RFE\n",
        "feature_ranks = rfe.ranking_\n",
        "print(\"Feature Ranks based on RFE:\")\n",
        "for rank, feature in zip(feature_ranks, X.columns):\n",
        "    print(f\"Feature: {feature}, Rank: {rank}\")\n"
      ],
      "metadata": {
        "id": "MBorDE7n4cFw"
      },
      "execution_count": null,
      "outputs": []
    },
    {
      "cell_type": "markdown",
      "source": [
        "**Oversampling techniques using the Synthetic Minority Over-sampling Technique (SMOTE) to balance the imbalanced dataset**"
      ],
      "metadata": {
        "id": "EYsTmXBG4h_G"
      }
    },
    {
      "cell_type": "code",
      "source": [
        "import pandas as pd\n",
        "from imblearn.over_sampling import SMOTE\n",
        "\n",
        "\n",
        "# Create a SMOTE object\n",
        "smote = SMOTE()\n",
        "\n",
        "# Perform oversampling\n",
        "X_resampled, y_resampled = smote.fit_resample(X, y)\n",
        "\n",
        "# Print the balanced class distribution\n",
        "print(\"Class distribution after SMOTE:\")\n",
        "print(y_resampled.value_counts())\n"
      ],
      "metadata": {
        "id": "JBhDLrah4oB_"
      },
      "execution_count": null,
      "outputs": []
    },
    {
      "cell_type": "markdown",
      "source": [
        "**Selecting Appropriate Learners for Training and Validation (K means and agglomerative clustering)**"
      ],
      "metadata": {
        "id": "0BABWh4I4uwh"
      }
    },
    {
      "cell_type": "markdown",
      "source": [
        "**K-Means clustering with K-fold cross-validation**"
      ],
      "metadata": {
        "id": "wOyyB-mn-cJO"
      }
    },
    {
      "cell_type": "code",
      "source": [
        "from sklearn.preprocessing import StandardScaler\n",
        "df = mall_data\n",
        "# Select features for clustering\n",
        "X = df[[\"Annual Income (k$)\", \"Spending Score (1-100)\"]]\n",
        "\n",
        "# Standardize the features for better performance of K-means\n",
        "scaler = StandardScaler()\n",
        "X_scaled = scaler.fit_transform(X)\n"
      ],
      "metadata": {
        "id": "6JLrFwSq-y7F"
      },
      "execution_count": null,
      "outputs": []
    },
    {
      "cell_type": "markdown",
      "source": [
        "**K means**"
      ],
      "metadata": {
        "id": "MO158uzp_ymD"
      }
    },
    {
      "cell_type": "code",
      "source": [
        "from sklearn.cluster import KMeans\n",
        "from sklearn.metrics import silhouette_score\n",
        "\n",
        "# Try different values of K and evaluate using WCSS and Silhouette Score\n",
        "k_values = range(2, 11)\n",
        "wcss_scores = []\n",
        "silhouette_scores = []\n",
        "\n",
        "for k in k_values:\n",
        "    kmeans = KMeans(n_clusters=k, random_state=42)\n",
        "    kmeans.fit(X_scaled)\n",
        "\n",
        "    wcss_scores.append(kmeans.inertia_)  # WCSS is available as inertia_ in KMeans\n",
        "    silhouette_scores.append(silhouette_score(X_scaled, kmeans.labels_))\n",
        "\n",
        "# Plot the Elbow Method to determine optimal K based on WCSS\n",
        "import matplotlib.pyplot as plt\n",
        "\n",
        "plt.plot(k_values, wcss_scores, marker='o')\n",
        "plt.xlabel(\"Number of Clusters (K)\")\n",
        "plt.ylabel(\"Within-Cluster Sum of Squares (WCSS)\")\n",
        "plt.title(\"Elbow Method for Optimal K\")\n",
        "plt.show()\n",
        "\n",
        "# Plot Silhouette Score to determine optimal K\n",
        "plt.plot(k_values, silhouette_scores, marker='o')\n",
        "plt.xlabel(\"Number of Clusters (K)\")\n",
        "plt.ylabel(\"Silhouette Score\")\n",
        "plt.title(\"Silhouette Score for Optimal K\")\n",
        "plt.show()\n"
      ],
      "metadata": {
        "id": "nsUhb4Pl-fye",
        "colab": {
          "base_uri": "https://localhost:8080/",
          "height": 1000
        },
        "outputId": "18b7ccf3-d274-49ca-8d3b-5e6eceae2614"
      },
      "execution_count": null,
      "outputs": [
        {
          "output_type": "stream",
          "name": "stderr",
          "text": [
            "/usr/local/lib/python3.10/dist-packages/sklearn/cluster/_kmeans.py:870: FutureWarning: The default value of `n_init` will change from 10 to 'auto' in 1.4. Set the value of `n_init` explicitly to suppress the warning\n",
            "  warnings.warn(\n",
            "/usr/local/lib/python3.10/dist-packages/sklearn/cluster/_kmeans.py:870: FutureWarning: The default value of `n_init` will change from 10 to 'auto' in 1.4. Set the value of `n_init` explicitly to suppress the warning\n",
            "  warnings.warn(\n",
            "/usr/local/lib/python3.10/dist-packages/sklearn/cluster/_kmeans.py:870: FutureWarning: The default value of `n_init` will change from 10 to 'auto' in 1.4. Set the value of `n_init` explicitly to suppress the warning\n",
            "  warnings.warn(\n",
            "/usr/local/lib/python3.10/dist-packages/sklearn/cluster/_kmeans.py:870: FutureWarning: The default value of `n_init` will change from 10 to 'auto' in 1.4. Set the value of `n_init` explicitly to suppress the warning\n",
            "  warnings.warn(\n",
            "/usr/local/lib/python3.10/dist-packages/sklearn/cluster/_kmeans.py:870: FutureWarning: The default value of `n_init` will change from 10 to 'auto' in 1.4. Set the value of `n_init` explicitly to suppress the warning\n",
            "  warnings.warn(\n",
            "/usr/local/lib/python3.10/dist-packages/sklearn/cluster/_kmeans.py:870: FutureWarning: The default value of `n_init` will change from 10 to 'auto' in 1.4. Set the value of `n_init` explicitly to suppress the warning\n",
            "  warnings.warn(\n",
            "/usr/local/lib/python3.10/dist-packages/sklearn/cluster/_kmeans.py:870: FutureWarning: The default value of `n_init` will change from 10 to 'auto' in 1.4. Set the value of `n_init` explicitly to suppress the warning\n",
            "  warnings.warn(\n",
            "/usr/local/lib/python3.10/dist-packages/sklearn/cluster/_kmeans.py:870: FutureWarning: The default value of `n_init` will change from 10 to 'auto' in 1.4. Set the value of `n_init` explicitly to suppress the warning\n",
            "  warnings.warn(\n",
            "/usr/local/lib/python3.10/dist-packages/sklearn/cluster/_kmeans.py:870: FutureWarning: The default value of `n_init` will change from 10 to 'auto' in 1.4. Set the value of `n_init` explicitly to suppress the warning\n",
            "  warnings.warn(\n"
          ]
        },
        {
          "output_type": "display_data",
          "data": {
            "text/plain": [
              "<Figure size 640x480 with 1 Axes>"
            ],
            "image/png": "[encoded data removed]"
          },
          "metadata": {}
        },
        {
          "output_type": "display_data",
          "data": {
            "text/plain": [
              "<Figure size 640x480 with 1 Axes>"
            ],
            "image/png": "[encoded data removed]"
          },
          "metadata": {}
        }
      ]
    },
    {
      "cell_type": "markdown",
      "source": [
        "**Hierachical clustering using agglomerative clusutering**"
      ],
      "metadata": {
        "id": "cKP9Y1yj-n83"
      }
    },
    {
      "cell_type": "code",
      "source": [
        "from scipy.cluster.hierarchy import linkage, dendrogram\n",
        "\n",
        "# Perform Hierarchical Clustering with different linkage methods\n",
        "methods = ['ward', 'complete', 'average']\n",
        "for method in methods:\n",
        "    Z = linkage(X_scaled, method=method)\n",
        "\n",
        "    # Plot the dendrogram\n",
        "    plt.figure(figsize=(10, 6))\n",
        "    dendrogram(Z, p=5, truncate_mode='level')\n",
        "    plt.title(f\"Hierarchical Clustering Dendrogram ({method} linkage)\")\n",
        "    plt.xlabel(\"Sample Index\")\n",
        "    plt.ylabel(\"Distance\")\n",
        "    plt.show()\n"
      ],
      "metadata": {
        "id": "tk28vRRY_JBF"
      },
      "execution_count": null,
      "outputs": []
    },
    {
      "cell_type": "code",
      "source": [
        "# Finalize the model based on the optimal K or linkage method\n",
        "# For example, if the optimal K is 5 for K-means\n",
        "kmeans_final = KMeans(n_clusters=5, random_state=42)\n",
        "kmeans_final.fit(X_scaled)\n",
        "\n",
        "# Visualize the clusters\n",
        "plt.scatter(X_scaled[:, 0], X_scaled[:, 1], c=kmeans_final.labels_, cmap='rainbow')\n",
        "plt.scatter(kmeans_final.cluster_centers_[:, 0], kmeans_final.cluster_centers_[:, 1], s=300, c='black', label='Centroids')\n",
        "plt.xlabel(\"Annual Income (k$)\")\n",
        "plt.ylabel(\"Spending Score (1-100)\")\n",
        "plt.title(\"Customer Segmentation\")\n",
        "plt.legend()\n",
        "plt.show()\n"
      ],
      "metadata": {
        "colab": {
          "base_uri": "https://localhost:8080/",
          "height": 529
        },
        "id": "SE79JfbqAFdh",
        "outputId": "e3d41cd4-e24b-4461-ede7-c765dd18cc00"
      },
      "execution_count": null,
      "outputs": [
        {
          "output_type": "stream",
          "name": "stderr",
          "text": [
            "/usr/local/lib/python3.10/dist-packages/sklearn/cluster/_kmeans.py:870: FutureWarning: The default value of `n_init` will change from 10 to 'auto' in 1.4. Set the value of `n_init` explicitly to suppress the warning\n",
            "  warnings.warn(\n"
          ]
        },
        {
          "output_type": "display_data",
          "data": {
            "text/plain": [
              "<Figure size 640x480 with 1 Axes>"
            ],
            "image/png": "[encoded data removed]"
          },
          "metadata": {}
        }
      ]
    }
  ]
}