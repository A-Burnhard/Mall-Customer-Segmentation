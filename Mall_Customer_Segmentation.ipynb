{
  "nbformat": 4,
  "nbformat_minor": 0,
  "metadata": {
    "colab": {
      "provenance": [],
      "authorship_tag": "ABX9TyPnk1z9ntcLyuSt9Z3AFEmI",
      "include_colab_link": true
    },
    "kernelspec": {
      "name": "python3",
      "display_name": "Python 3"
    },
    "language_info": {
      "name": "python"
    }
  },
  "cells": [
    {
      "cell_type": "markdown",
      "metadata": {
        "id": "view-in-github",
        "colab_type": "text"
      },
      "source": [
        "<a href=\"https://colab.research.google.com/github/A-Burnhard/Mall-Customer-Segmentation/blob/main/Mall_Customer_Segmentation.ipynb\" target=\"_parent\"><img src=\"https://colab.research.google.com/assets/colab-badge.svg\" alt=\"Open In Colab\"/></a>"
      ]
    },
    {
      "cell_type": "code",
      "execution_count": 2,
      "metadata": {
        "id": "yG6RfAEw0Csy"
      },
      "outputs": [],
      "source": [
        "import pandas as pd\n",
        "from sklearn.model_selection import train_test_split\n",
        "from sklearn.preprocessing import LabelEncoder"
      ]
    },
    {
      "cell_type": "code",
      "source": [
        "#Loading or importing  mall customer segmentation dataset to notebook\n",
        "mall_data = pd.read_csv(\"Mall_Customers.csv\")\n",
        "label_encoder = LabelEncoder()\n",
        "mall_data[\"Gender\"] = label_encoder.fit_transform(mall_data[\"Gender\"])\n",
        "mall_data.head()"
      ],
      "metadata": {
        "id": "xf06jar70dSI"
      },
      "execution_count": null,
      "outputs": []
    },
    {
      "cell_type": "markdown",
      "source": [
        "**Preprocessing**\n"
      ],
      "metadata": {
        "id": "pljBbpL10g5D"
      }
    },
    {
      "cell_type": "markdown",
      "source": [
        "**Identifying Missing values**"
      ],
      "metadata": {
        "id": "bkNEmwVy0k-K"
      }
    },
    {
      "cell_type": "code",
      "source": [
        "# Identify missing values\n",
        "missing_values = mall_data.isnull().sum()\n",
        "print(\"Missing values:\\n\", missing_values)"
      ],
      "metadata": {
        "id": "w5j2LkIr0fT0",
        "colab": {
          "base_uri": "https://localhost:8080/"
        },
        "outputId": "ce164526-0969-4828-a083-4e9a215a8b8c"
      },
      "execution_count": null,
      "outputs": [
        {
          "output_type": "stream",
          "name": "stdout",
          "text": [
            "Missing values:\n",
            " CustomerID                0\n",
            "Gender                    0\n",
            "Age                       0\n",
            "Annual Income (k$)        0\n",
            "Spending Score (1-100)    0\n",
            "dtype: int64\n"
          ]
        }
      ]
    },
    {
      "cell_type": "markdown",
      "source": [
        "**Identifying Duplicates**"
      ],
      "metadata": {
        "id": "hjGiFJ370q6-"
      }
    },
    {
      "cell_type": "code",
      "source": [
        "# Identify duplicate rows\n",
        "duplicates = mall_data.duplicated()\n",
        "print(\"Duplicates instances: \\n\",duplicates)"
      ],
      "metadata": {
        "id": "fgzdSG8B0wdG"
      },
      "execution_count": null,
      "outputs": []
    },
    {
      "cell_type": "markdown",
      "source": [
        "**Outlier Detection using Boxplot**"
      ],
      "metadata": {
        "id": "IIYH2dRH03kL"
      }
    },
    {
      "cell_type": "code",
      "source": [
        "\n",
        "import pandas as pd\n",
        "import matplotlib.pyplot as plt\n",
        "import seaborn as sns\n",
        "\n",
        "data = mall_data\n",
        "\n",
        "# Visualize the distribution of each feature using box plots\n",
        "plt.figure(figsize=(10, 6))\n",
        "sns.boxplot(data=data)\n",
        "plt.xticks(rotation=90)\n",
        "plt.title('Boxplot of Features')\n",
        "plt.show()\n",
        "\n",
        "# Identify outliers using statistical methods (e.g., Z-score or IQR)\n",
        "# Z-score method\n",
        "from scipy.stats import zscore\n",
        "\n",
        "#data = mall_data.drop(\"class\", axis=1)\n",
        "z_scores = zscore(data)\n",
        "outlier_threshold = 3  # Adjust the threshold as per your preference\n",
        "outliers = (abs(z_scores) > outlier_threshold).any(axis=1)\n",
        "\n",
        "# IQR method\n",
        "Q1 = data.quantile(0.25)\n",
        "Q3 = data.quantile(0.75)\n",
        "IQR = Q3 - Q1\n",
        "outliers = ((data < (Q1 - 1.5 * IQR)) | (data > (Q3 + 1.5 * IQR))).any(axis=1)\n",
        "\n",
        "# Count the number of outliers\n",
        "num_outliers = outliers.sum()\n",
        "print(f\"Number of outliers: {num_outliers}\")\n",
        "\n",
        "# Decide whether to remove outliers or transform them\n",
        "remove_outliers = False\n",
        "\n",
        "if remove_outliers:\n",
        "    # Remove outliers from the dataset\n",
        "    data = data[~outliers]\n",
        "    print(\"Outliers removed.\")\n",
        "else:\n",
        "    # Transform outliers to a specific value\n",
        "    outlier_value = 200  # Choose an appropriate value for transformation\n",
        "    data[outliers] = outlier_value\n",
        "    print(\"Outliers transformed.\")\n",
        "\n",
        "# Updated visualization after handling outliers\n",
        "plt.figure(figsize=(10, 6))\n",
        "sns.boxplot(data=data)\n",
        "plt.xticks(rotation=90)\n",
        "plt.title('Boxplot of Features (After Outlier Handling)')\n",
        "plt.show()\n",
        "\n",
        "mall_data = data\n"
      ],
      "metadata": {
        "id": "rzTWcbgC08dK"
      },
      "execution_count": null,
      "outputs": []
    },
    {
      "cell_type": "markdown",
      "source": [
        "**others**"
      ],
      "metadata": {
        "id": "ldjIhcZjK9y5"
      }
    },
    {
      "cell_type": "code",
      "source": [
        "import pandas as pd\n",
        "import numpy as np\n",
        "import matplotlib.pyplot as plt\n",
        "from sklearn.cluster import KMeans\n",
        "from sklearn.preprocessing import StandardScaler\n",
        "from sklearn.decomposition import PCA\n",
        "from sklearn.covariance import EllipticEnvelope\n",
        "\n",
        "# Load the mall customer segmentation dataset\n",
        "df = mall_data\n",
        "\n",
        "# Drop irrelevant columns (e.g., CustomerID)\n",
        "#df.drop(columns=['CustomerID'], inplace=True)\n",
        "\n",
        "# Standardize the data for clustering\n",
        "scaler = StandardScaler()\n",
        "X_scaled = scaler.fit_transform(df)\n",
        "\n",
        "# Apply K-Means clustering\n",
        "num_clusters = 5\n",
        "kmeans = KMeans(n_clusters=num_clusters, random_state=42)\n",
        "clusters = kmeans.fit_predict(X_scaled)\n",
        "\n",
        "# Add cluster labels to the dataframe\n",
        "df['Cluster'] = clusters\n",
        "\n",
        "# Perform PCA for visualization purposes (you can skip this step if the dataset has only 2-3 dimensions)\n",
        "pca = PCA(n_components=2)\n",
        "X_pca = pca.fit_transform(X_scaled)\n",
        "\n",
        "# Plot the clusters for visualization\n",
        "plt.scatter(X_pca[:, 0], X_pca[:, 1], c=clusters, cmap='rainbow', edgecolors='k')\n",
        "plt.xlabel('Principal Component 1')\n",
        "plt.ylabel('Principal Component 2')\n",
        "plt.title('K-Means Clustering')\n",
        "plt.show()\n",
        "\n",
        "# Use Elliptic Envelope to detect influential data points\n",
        "outlier_detector = EllipticEnvelope(contamination=0.05)  # Adjust the contamination level as needed\n",
        "influential_data_points = outlier_detector.fit_predict(X_scaled)\n",
        "\n",
        "# Add the influential data point labels to the dataframe\n",
        "df['Influential'] = influential_data_points\n",
        "\n",
        "# Display the data points identified as influential\n",
        "print(\"Influential Data Points:\")\n",
        "print(df[df['Influential'] == -1])\n",
        "\n",
        "# Optionally, you can save the updated DataFrame to a new CSV file\n",
        "# df.to_csv(\"mall_customer_segmentation_with_influential.csv\", index=False)\n"
      ],
      "metadata": {
        "colab": {
          "base_uri": "https://localhost:8080/",
          "height": 1000
        },
        "id": "ecIbBmHvLE9_",
        "outputId": "997a31e7-a510-482e-d938-7b8d354aa4bb"
      },
      "execution_count": 15,
      "outputs": [
        {
          "output_type": "stream",
          "name": "stderr",
          "text": [
            "/usr/local/lib/python3.10/dist-packages/sklearn/cluster/_kmeans.py:870: FutureWarning: The default value of `n_init` will change from 10 to 'auto' in 1.4. Set the value of `n_init` explicitly to suppress the warning\n",
            "  warnings.warn(\n"
          ]
        },
        {
          "output_type": "display_data",
          "data": {
            "text/plain": [
              "<Figure size 640x480 with 1 Axes>"
            ],
            "image/png": "[encoded data removed]"
          },
          "metadata": {}
        },
        {
          "output_type": "stream",
          "name": "stdout",
          "text": [
            "Influential Data Points:\n",
            "     Gender  Age  Annual Income (k$)  Spending Score (1-100)  Cluster  \\\n",
            "0       200  200               200.0                     200        1   \n",
            "1       200  200               200.0                     200        1   \n",
            "2       200  200               200.0                     200        1   \n",
            "3       200  200               200.0                     200        1   \n",
            "4       200  200               200.0                     200        1   \n",
            "5       200  200               200.0                     200        1   \n",
            "6       200  200               200.0                     200        1   \n",
            "7       200  200               200.0                     200        1   \n",
            "124     200  200               200.0                     200        1   \n",
            "132     200  200               200.0                     200        1   \n",
            "134     200  200               200.0                     200        1   \n",
            "138     200  200               200.0                     200        1   \n",
            "144     200  200               200.0                     200        1   \n",
            "162     200  200               200.0                     200        1   \n",
            "190     200  200               200.0                     200        1   \n",
            "192     200  200               200.0                     200        1   \n",
            "198     200  200               200.0                     200        1   \n",
            "199     200  200               200.0                     200        1   \n",
            "\n",
            "     Influential  \n",
            "0             -1  \n",
            "1             -1  \n",
            "2             -1  \n",
            "3             -1  \n",
            "4             -1  \n",
            "5             -1  \n",
            "6             -1  \n",
            "7             -1  \n",
            "124           -1  \n",
            "132           -1  \n",
            "134           -1  \n",
            "138           -1  \n",
            "144           -1  \n",
            "162           -1  \n",
            "190           -1  \n",
            "192           -1  \n",
            "198           -1  \n",
            "199           -1  \n"
          ]
        }
      ]
    },
    {
      "cell_type": "markdown",
      "source": [
        "**Defining X and Y values**"
      ],
      "metadata": {
        "id": "Qc6B2KiI1DUh"
      }
    },
    {
      "cell_type": "code",
      "source": [
        "# Separate the target variable (class) from the features\n",
        "X = mall_data.drop('class', axis=1)\n",
        "y = mall_data['class']\n",
        "\n",
        "# Convert the target variable to numeric labels\n",
        "label_mapping = {'Iris-setosa': 0, 'Iris-versicolor': 1, 'Iris-virginica': 2}\n",
        "y = y.map(label_mapping)"
      ],
      "metadata": {
        "id": "NsRBcorI1JDa",
        "colab": {
          "base_uri": "https://localhost:8080/",
          "height": 398
        },
        "outputId": "378016ae-27e8-4e73-eb8d-1d990b8bc387"
      },
      "execution_count": 6,
      "outputs": [
        {
          "output_type": "error",
          "ename": "KeyError",
          "evalue": "ignored",
          "traceback": [
            "\u001b[0;31m---------------------------------------------------------------------------\u001b[0m",
            "\u001b[0;31mKeyError\u001b[0m                                  Traceback (most recent call last)",
            "\u001b[0;32m<ipython-input-6-483d771b5fb0>\u001b[0m in \u001b[0;36m<cell line: 2>\u001b[0;34m()\u001b[0m\n\u001b[1;32m      1\u001b[0m \u001b[0;31m# Separate the target variable (class) from the features\u001b[0m\u001b[0;34m\u001b[0m\u001b[0;34m\u001b[0m\u001b[0m\n\u001b[0;32m----> 2\u001b[0;31m \u001b[0mX\u001b[0m \u001b[0;34m=\u001b[0m \u001b[0mmall_data\u001b[0m\u001b[0;34m.\u001b[0m\u001b[0mdrop\u001b[0m\u001b[0;34m(\u001b[0m\u001b[0;34m'class'\u001b[0m\u001b[0;34m,\u001b[0m \u001b[0maxis\u001b[0m\u001b[0;34m=\u001b[0m\u001b[0;36m1\u001b[0m\u001b[0;34m)\u001b[0m\u001b[0;34m\u001b[0m\u001b[0;34m\u001b[0m\u001b[0m\n\u001b[0m\u001b[1;32m      3\u001b[0m \u001b[0my\u001b[0m \u001b[0;34m=\u001b[0m \u001b[0mmall_data\u001b[0m\u001b[0;34m[\u001b[0m\u001b[0;34m'class'\u001b[0m\u001b[0;34m]\u001b[0m\u001b[0;34m\u001b[0m\u001b[0;34m\u001b[0m\u001b[0m\n\u001b[1;32m      4\u001b[0m \u001b[0;34m\u001b[0m\u001b[0m\n\u001b[1;32m      5\u001b[0m \u001b[0;31m# Convert the target variable to numeric labels\u001b[0m\u001b[0;34m\u001b[0m\u001b[0;34m\u001b[0m\u001b[0m\n",
            "\u001b[0;32m/usr/local/lib/python3.10/dist-packages/pandas/util/_decorators.py\u001b[0m in \u001b[0;36mwrapper\u001b[0;34m(*args, **kwargs)\u001b[0m\n\u001b[1;32m    329\u001b[0m                     \u001b[0mstacklevel\u001b[0m\u001b[0;34m=\u001b[0m\u001b[0mfind_stack_level\u001b[0m\u001b[0;34m(\u001b[0m\u001b[0;34m)\u001b[0m\u001b[0;34m,\u001b[0m\u001b[0;34m\u001b[0m\u001b[0;34m\u001b[0m\u001b[0m\n\u001b[1;32m    330\u001b[0m                 )\n\u001b[0;32m--> 331\u001b[0;31m             \u001b[0;32mreturn\u001b[0m \u001b[0mfunc\u001b[0m\u001b[0;34m(\u001b[0m\u001b[0;34m*\u001b[0m\u001b[0margs\u001b[0m\u001b[0;34m,\u001b[0m \u001b[0;34m**\u001b[0m\u001b[0mkwargs\u001b[0m\u001b[0;34m)\u001b[0m\u001b[0;34m\u001b[0m\u001b[0;34m\u001b[0m\u001b[0m\n\u001b[0m\u001b[1;32m    332\u001b[0m \u001b[0;34m\u001b[0m\u001b[0m\n\u001b[1;32m    333\u001b[0m         \u001b[0;31m# error: \"Callable[[VarArg(Any), KwArg(Any)], Any]\" has no\u001b[0m\u001b[0;34m\u001b[0m\u001b[0;34m\u001b[0m\u001b[0m\n",
            "\u001b[0;32m/usr/local/lib/python3.10/dist-packages/pandas/core/frame.py\u001b[0m in \u001b[0;36mdrop\u001b[0;34m(self, labels, axis, index, columns, level, inplace, errors)\u001b[0m\n\u001b[1;32m   5397\u001b[0m                 \u001b[0mweight\u001b[0m  \u001b[0;36m1.0\u001b[0m     \u001b[0;36m0.8\u001b[0m\u001b[0;34m\u001b[0m\u001b[0;34m\u001b[0m\u001b[0m\n\u001b[1;32m   5398\u001b[0m         \"\"\"\n\u001b[0;32m-> 5399\u001b[0;31m         return super().drop(\n\u001b[0m\u001b[1;32m   5400\u001b[0m             \u001b[0mlabels\u001b[0m\u001b[0;34m=\u001b[0m\u001b[0mlabels\u001b[0m\u001b[0;34m,\u001b[0m\u001b[0;34m\u001b[0m\u001b[0;34m\u001b[0m\u001b[0m\n\u001b[1;32m   5401\u001b[0m             \u001b[0maxis\u001b[0m\u001b[0;34m=\u001b[0m\u001b[0maxis\u001b[0m\u001b[0;34m,\u001b[0m\u001b[0;34m\u001b[0m\u001b[0;34m\u001b[0m\u001b[0m\n",
            "\u001b[0;32m/usr/local/lib/python3.10/dist-packages/pandas/util/_decorators.py\u001b[0m in \u001b[0;36mwrapper\u001b[0;34m(*args, **kwargs)\u001b[0m\n\u001b[1;32m    329\u001b[0m                     \u001b[0mstacklevel\u001b[0m\u001b[0;34m=\u001b[0m\u001b[0mfind_stack_level\u001b[0m\u001b[0;34m(\u001b[0m\u001b[0;34m)\u001b[0m\u001b[0;34m,\u001b[0m\u001b[0;34m\u001b[0m\u001b[0;34m\u001b[0m\u001b[0m\n\u001b[1;32m    330\u001b[0m                 )\n\u001b[0;32m--> 331\u001b[0;31m             \u001b[0;32mreturn\u001b[0m \u001b[0mfunc\u001b[0m\u001b[0;34m(\u001b[0m\u001b[0;34m*\u001b[0m\u001b[0margs\u001b[0m\u001b[0;34m,\u001b[0m \u001b[0;34m**\u001b[0m\u001b[0mkwargs\u001b[0m\u001b[0;34m)\u001b[0m\u001b[0;34m\u001b[0m\u001b[0;34m\u001b[0m\u001b[0m\n\u001b[0m\u001b[1;32m    332\u001b[0m \u001b[0;34m\u001b[0m\u001b[0m\n\u001b[1;32m    333\u001b[0m         \u001b[0;31m# error: \"Callable[[VarArg(Any), KwArg(Any)], Any]\" has no\u001b[0m\u001b[0;34m\u001b[0m\u001b[0;34m\u001b[0m\u001b[0m\n",
            "\u001b[0;32m/usr/local/lib/python3.10/dist-packages/pandas/core/generic.py\u001b[0m in \u001b[0;36mdrop\u001b[0;34m(self, labels, axis, index, columns, level, inplace, errors)\u001b[0m\n\u001b[1;32m   4503\u001b[0m         \u001b[0;32mfor\u001b[0m \u001b[0maxis\u001b[0m\u001b[0;34m,\u001b[0m \u001b[0mlabels\u001b[0m \u001b[0;32min\u001b[0m \u001b[0maxes\u001b[0m\u001b[0;34m.\u001b[0m\u001b[0mitems\u001b[0m\u001b[0;34m(\u001b[0m\u001b[0;34m)\u001b[0m\u001b[0;34m:\u001b[0m\u001b[0;34m\u001b[0m\u001b[0;34m\u001b[0m\u001b[0m\n\u001b[1;32m   4504\u001b[0m             \u001b[0;32mif\u001b[0m \u001b[0mlabels\u001b[0m \u001b[0;32mis\u001b[0m \u001b[0;32mnot\u001b[0m \u001b[0;32mNone\u001b[0m\u001b[0;34m:\u001b[0m\u001b[0;34m\u001b[0m\u001b[0;34m\u001b[0m\u001b[0m\n\u001b[0;32m-> 4505\u001b[0;31m                 \u001b[0mobj\u001b[0m \u001b[0;34m=\u001b[0m \u001b[0mobj\u001b[0m\u001b[0;34m.\u001b[0m\u001b[0m_drop_axis\u001b[0m\u001b[0;34m(\u001b[0m\u001b[0mlabels\u001b[0m\u001b[0;34m,\u001b[0m \u001b[0maxis\u001b[0m\u001b[0;34m,\u001b[0m \u001b[0mlevel\u001b[0m\u001b[0;34m=\u001b[0m\u001b[0mlevel\u001b[0m\u001b[0;34m,\u001b[0m \u001b[0merrors\u001b[0m\u001b[0;34m=\u001b[0m\u001b[0merrors\u001b[0m\u001b[0;34m)\u001b[0m\u001b[0;34m\u001b[0m\u001b[0;34m\u001b[0m\u001b[0m\n\u001b[0m\u001b[1;32m   4506\u001b[0m \u001b[0;34m\u001b[0m\u001b[0m\n\u001b[1;32m   4507\u001b[0m         \u001b[0;32mif\u001b[0m \u001b[0minplace\u001b[0m\u001b[0;34m:\u001b[0m\u001b[0;34m\u001b[0m\u001b[0;34m\u001b[0m\u001b[0m\n",
            "\u001b[0;32m/usr/local/lib/python3.10/dist-packages/pandas/core/generic.py\u001b[0m in \u001b[0;36m_drop_axis\u001b[0;34m(self, labels, axis, level, errors, only_slice)\u001b[0m\n\u001b[1;32m   4544\u001b[0m                 \u001b[0mnew_axis\u001b[0m \u001b[0;34m=\u001b[0m \u001b[0maxis\u001b[0m\u001b[0;34m.\u001b[0m\u001b[0mdrop\u001b[0m\u001b[0;34m(\u001b[0m\u001b[0mlabels\u001b[0m\u001b[0;34m,\u001b[0m \u001b[0mlevel\u001b[0m\u001b[0;34m=\u001b[0m\u001b[0mlevel\u001b[0m\u001b[0;34m,\u001b[0m \u001b[0merrors\u001b[0m\u001b[0;34m=\u001b[0m\u001b[0merrors\u001b[0m\u001b[0;34m)\u001b[0m\u001b[0;34m\u001b[0m\u001b[0;34m\u001b[0m\u001b[0m\n\u001b[1;32m   4545\u001b[0m             \u001b[0;32melse\u001b[0m\u001b[0;34m:\u001b[0m\u001b[0;34m\u001b[0m\u001b[0;34m\u001b[0m\u001b[0m\n\u001b[0;32m-> 4546\u001b[0;31m                 \u001b[0mnew_axis\u001b[0m \u001b[0;34m=\u001b[0m \u001b[0maxis\u001b[0m\u001b[0;34m.\u001b[0m\u001b[0mdrop\u001b[0m\u001b[0;34m(\u001b[0m\u001b[0mlabels\u001b[0m\u001b[0;34m,\u001b[0m \u001b[0merrors\u001b[0m\u001b[0;34m=\u001b[0m\u001b[0merrors\u001b[0m\u001b[0;34m)\u001b[0m\u001b[0;34m\u001b[0m\u001b[0;34m\u001b[0m\u001b[0m\n\u001b[0m\u001b[1;32m   4547\u001b[0m             \u001b[0mindexer\u001b[0m \u001b[0;34m=\u001b[0m \u001b[0maxis\u001b[0m\u001b[0;34m.\u001b[0m\u001b[0mget_indexer\u001b[0m\u001b[0;34m(\u001b[0m\u001b[0mnew_axis\u001b[0m\u001b[0;34m)\u001b[0m\u001b[0;34m\u001b[0m\u001b[0;34m\u001b[0m\u001b[0m\n\u001b[1;32m   4548\u001b[0m \u001b[0;34m\u001b[0m\u001b[0m\n",
            "\u001b[0;32m/usr/local/lib/python3.10/dist-packages/pandas/core/indexes/base.py\u001b[0m in \u001b[0;36mdrop\u001b[0;34m(self, labels, errors)\u001b[0m\n\u001b[1;32m   6932\u001b[0m         \u001b[0;32mif\u001b[0m \u001b[0mmask\u001b[0m\u001b[0;34m.\u001b[0m\u001b[0many\u001b[0m\u001b[0;34m(\u001b[0m\u001b[0;34m)\u001b[0m\u001b[0;34m:\u001b[0m\u001b[0;34m\u001b[0m\u001b[0;34m\u001b[0m\u001b[0m\n\u001b[1;32m   6933\u001b[0m             \u001b[0;32mif\u001b[0m \u001b[0merrors\u001b[0m \u001b[0;34m!=\u001b[0m \u001b[0;34m\"ignore\"\u001b[0m\u001b[0;34m:\u001b[0m\u001b[0;34m\u001b[0m\u001b[0;34m\u001b[0m\u001b[0m\n\u001b[0;32m-> 6934\u001b[0;31m                 \u001b[0;32mraise\u001b[0m \u001b[0mKeyError\u001b[0m\u001b[0;34m(\u001b[0m\u001b[0;34mf\"{list(labels[mask])} not found in axis\"\u001b[0m\u001b[0;34m)\u001b[0m\u001b[0;34m\u001b[0m\u001b[0;34m\u001b[0m\u001b[0m\n\u001b[0m\u001b[1;32m   6935\u001b[0m             \u001b[0mindexer\u001b[0m \u001b[0;34m=\u001b[0m \u001b[0mindexer\u001b[0m\u001b[0;34m[\u001b[0m\u001b[0;34m~\u001b[0m\u001b[0mmask\u001b[0m\u001b[0;34m]\u001b[0m\u001b[0;34m\u001b[0m\u001b[0;34m\u001b[0m\u001b[0m\n\u001b[1;32m   6936\u001b[0m         \u001b[0;32mreturn\u001b[0m \u001b[0mself\u001b[0m\u001b[0;34m.\u001b[0m\u001b[0mdelete\u001b[0m\u001b[0;34m(\u001b[0m\u001b[0mindexer\u001b[0m\u001b[0;34m)\u001b[0m\u001b[0;34m\u001b[0m\u001b[0;34m\u001b[0m\u001b[0m\n",
            "\u001b[0;31mKeyError\u001b[0m: \"['class'] not found in axis\""
          ]
        }
      ]
    },
    {
      "cell_type": "markdown",
      "source": [
        "**Influencial datapoint detection using elliptic envelope**"
      ],
      "metadata": {
        "id": "k7tEBzjs1c5w"
      }
    },
    {
      "cell_type": "code",
      "source": [
        "import pandas as pd\n",
        "import numpy as np\n",
        "import matplotlib.pyplot as plt\n",
        "from sklearn.cluster import KMeans\n",
        "from sklearn.preprocessing import StandardScaler\n",
        "from sklearn.decomposition import PCA\n",
        "from sklearn.covariance import EllipticEnvelope\n",
        "\n",
        "# Load the mall customer segmentation dataset\n",
        "df = mall_data\n",
        "\n",
        "# Drop irrelevant columns (e.g., CustomerID)\n",
        "#df.drop(columns=['CustomerID'], inplace=True)\n",
        "\n",
        "# Standardize the data for clustering\n",
        "scaler = StandardScaler()\n",
        "X_scaled = scaler.fit_transform(df)\n",
        "\n",
        "# Apply K-Means clustering\n",
        "num_clusters = 5\n",
        "kmeans = KMeans(n_clusters=num_clusters, random_state=42)\n",
        "clusters = kmeans.fit_predict(X_scaled)\n",
        "\n",
        "# Add cluster labels to the dataframe\n",
        "df['Cluster'] = clusters\n",
        "\n",
        "# Perform PCA for visualization purposes (you can skip this step if the dataset has only 2-3 dimensions)\n",
        "pca = PCA(n_components=2)\n",
        "X_pca = pca.fit_transform(X_scaled)\n",
        "\n",
        "# Plot the clusters for visualization\n",
        "plt.scatter(X_pca[:, 0], X_pca[:, 1], c=clusters, cmap='rainbow', edgecolors='k')\n",
        "plt.xlabel('Principal Component 1')\n",
        "plt.ylabel('Principal Component 2')\n",
        "plt.title('K-Means Clustering')\n",
        "plt.show()\n",
        "\n",
        "# Use Elliptic Envelope to detect influential data points\n",
        "outlier_detector = EllipticEnvelope(contamination=0.05)  # Adjust the contamination level as needed\n",
        "influential_data_points = outlier_detector.fit_predict(X_scaled)\n",
        "\n",
        "# Add the influential data point labels to the dataframe\n",
        "df['Influential'] = influential_data_points\n",
        "\n",
        "# Display the data points identified as influential\n",
        "print(\"Influential Data Points:\")\n",
        "print(df[df['Influential'] == -1])\n",
        "\n",
        "# Optionally, you can save the updated DataFrame to a new CSV file\n",
        "# df.to_csv(\"mall_customer_segmentation_with_influential.csv\", index=False)\n"
      ],
      "metadata": {
        "id": "kKPcGq8S3oY-"
      },
      "execution_count": null,
      "outputs": []
    },
    {
      "cell_type": "markdown",
      "source": [
        "**Normality of the set of features using shapiro**"
      ],
      "metadata": {
        "id": "Yf2tWXuR3yxm"
      }
    },
    {
      "cell_type": "code",
      "source": [
        "import pandas as pd\n",
        "from scipy.stats import shapiro\n",
        "\n",
        "\n",
        "\n",
        "# Select the features to check for normality\n",
        "features = X\n",
        "\n",
        "# Perform Shapiro-Wilk test for each feature\n",
        "for column in features.columns:\n",
        "    stat, p_value = shapiro(features[column])\n",
        "    alpha = 0.05  # Significance level\n",
        "\n",
        "    print(f\"Feature: {column}\")\n",
        "    print(f\"Shapiro-Wilk test statistic: {stat}\")\n",
        "    print(f\"P-value: {p_value}\")\n",
        "\n",
        "    if p_value > alpha:\n",
        "        print(\"Feature appears to be normally distributed.\")\n",
        "    else:\n",
        "        print(\"Feature does not appear to be normally distributed.\")\n",
        "\n",
        "    print()\n"
      ],
      "metadata": {
        "id": "AMMgQlSI4FUx",
        "colab": {
          "base_uri": "https://localhost:8080/"
        },
        "outputId": "25268607-d2b1-4fe7-8b8c-fb56f22c6404"
      },
      "execution_count": null,
      "outputs": [
        {
          "output_type": "stream",
          "name": "stdout",
          "text": [
            "Feature: Age\n",
            "Shapiro-Wilk test statistic: 0.7606357336044312\n",
            "P-value: 1.0661613633257229e-16\n",
            "Feature does not appear to be normally distributed.\n",
            "\n",
            "Feature: Annual Income (k$)\n",
            "Shapiro-Wilk test statistic: nan\n",
            "P-value: 1.0\n",
            "Feature appears to be normally distributed.\n",
            "\n",
            "Feature: Spending Score (1-100)\n",
            "Shapiro-Wilk test statistic: 0.9456781148910522\n",
            "P-value: 7.816803417881601e-07\n",
            "Feature does not appear to be normally distributed.\n",
            "\n",
            "Feature: Cluster\n",
            "Shapiro-Wilk test statistic: 0.8550924062728882\n",
            "P-value: 8.330277656912188e-13\n",
            "Feature does not appear to be normally distributed.\n",
            "\n"
          ]
        }
      ]
    },
    {
      "cell_type": "markdown",
      "source": [
        "**Data transformation**"
      ],
      "metadata": {
        "id": "l3nfDGc94K-3"
      }
    },
    {
      "cell_type": "code",
      "source": [
        "import pandas as pd\n",
        "from sklearn.preprocessing import MinMaxScaler, StandardScaler\n",
        "X,y\n",
        "\n",
        "# Separate the target variable (class) from the features\n",
        "\n",
        "# Perform normalization using Min-Max scaler\n",
        "scaler = MinMaxScaler()\n",
        "X_normalized = scaler.fit_transform(X)\n",
        "\n",
        "# Perform standardization using StandardScaler\n",
        "scaler = StandardScaler()\n",
        "X_standardized = scaler.fit_transform(X)\n",
        "print(X)"
      ],
      "metadata": {
        "id": "LFX4wqu64RNq"
      },
      "execution_count": null,
      "outputs": []
    },
    {
      "cell_type": "markdown",
      "source": [
        "**Feature Selection**"
      ],
      "metadata": {
        "id": "OPvXspMD4XBB"
      }
    },
    {
      "cell_type": "code",
      "source": [
        "import pandas as pd\n",
        "from sklearn.ensemble import RandomForestRegressor\n",
        "\n",
        "\n",
        "# Create a Random Forest regressor\n",
        "rf = RandomForestRegressor()\n",
        "\n",
        "# Fit the Random Forest model\n",
        "rf.fit(X, y)\n",
        "\n",
        "# Get the feature importances\n",
        "feature_importances = rf.feature_importances_\n",
        "\n",
        "# Create a DataFrame of feature importances\n",
        "feature_importances_df = pd.DataFrame({'Feature': X.columns, 'Importance': feature_importances})\n",
        "\n",
        "# Sort the features by importance (descending order)\n",
        "feature_importances_df = feature_importances_df.sort_values(by='Importance', ascending=False)\n",
        "\n",
        "# Print the feature importances\n",
        "print(feature_importances_df)"
      ],
      "metadata": {
        "id": "MBorDE7n4cFw"
      },
      "execution_count": null,
      "outputs": []
    },
    {
      "cell_type": "markdown",
      "source": [
        "**Oversampling techniques using the Synthetic Minority Over-sampling Technique (SMOTE) to balance the imbalanced dataset**"
      ],
      "metadata": {
        "id": "EYsTmXBG4h_G"
      }
    },
    {
      "cell_type": "code",
      "source": [
        "import pandas as pd\n",
        "from imblearn.over_sampling import SMOTE\n",
        "\n",
        "\n",
        "# Create a SMOTE object\n",
        "smote = SMOTE()\n",
        "\n",
        "# Perform oversampling\n",
        "X_resampled, y_resampled = smote.fit_resample(X, y)\n",
        "\n",
        "# Print the balanced class distribution\n",
        "print(\"Class distribution after SMOTE:\")\n",
        "print(y_resampled.value_counts())\n"
      ],
      "metadata": {
        "id": "JBhDLrah4oB_"
      },
      "execution_count": null,
      "outputs": []
    },
    {
      "cell_type": "markdown",
      "source": [
        "**Selecting Appropriate Learners for Training and Validation (K means and agglomerative clustering)**"
      ],
      "metadata": {
        "id": "0BABWh4I4uwh"
      }
    },
    {
      "cell_type": "code",
      "source": [],
      "metadata": {
        "id": "27LFGwRw46xp"
      },
      "execution_count": null,
      "outputs": []
    },
    {
      "cell_type": "markdown",
      "source": [
        "**K-Means clustering with K-fold cross-validation**"
      ],
      "metadata": {
        "id": "wOyyB-mn-cJO"
      }
    },
    {
      "cell_type": "code",
      "source": [
        "from sklearn.datasets import load_iris\n",
        "from sklearn.cluster import KMeans\n",
        "from sklearn.model_selection import cross_val_score\n",
        "\n",
        "# Load the Iris dataset\n",
        "iris = load_iris()\n",
        "X = iris.data\n",
        "\n",
        "# Instantiate the KMeans model\n",
        "kmeans = KMeans(n_clusters=3)\n",
        "\n",
        "# Perform K-fold cross-validation\n",
        "k_fold_scores = cross_val_score(kmeans, X, cv=5)\n",
        "\n",
        "# Print the cross-validation scores\n",
        "print(\"K-Fold Cross-Validation Scores for K-Means:\")\n",
        "print(k_fold_scores)\n",
        "\n"
      ],
      "metadata": {
        "id": "nsUhb4Pl-fye"
      },
      "execution_count": null,
      "outputs": []
    },
    {
      "cell_type": "markdown",
      "source": [
        "**Hierachical clustering using agglomerative clusutering**"
      ],
      "metadata": {
        "id": "cKP9Y1yj-n83"
      }
    },
    {
      "cell_type": "code",
      "source": [
        "from sklearn.datasets import load_iris\n",
        "from sklearn.cluster import AgglomerativeClustering\n",
        "from sklearn.model_selection import LeaveOneOut\n",
        "\n",
        "# Load the Iris dataset\n",
        "iris = load_iris()\n",
        "X = iris.data\n",
        "\n",
        "# Instantiate the AgglomerativeClustering model\n",
        "agg_clustering = AgglomerativeClustering(n_clusters=3)\n",
        "\n",
        "# Perform leave-one-out cross-validation\n",
        "loo = LeaveOneOut()\n",
        "validation_scores = []\n",
        "\n",
        "for train_index, test_index in loo.split(X):\n",
        "    X_train, X_test = X[train_index], X[test_index]\n",
        "    y_pred = agg_clustering.fit_predict(X_train)\n",
        "    validation_scores.append(y_pred[test_index][0])\n",
        "\n",
        "# Print the validation scores\n",
        "print(\"Leave-One-Out Cross-Validation Scores for Hierarchical Clustering:\")\n",
        "print(validation_scores)\n"
      ],
      "metadata": {
        "id": "tk28vRRY_JBF"
      },
      "execution_count": null,
      "outputs": []
    }
  ]
}